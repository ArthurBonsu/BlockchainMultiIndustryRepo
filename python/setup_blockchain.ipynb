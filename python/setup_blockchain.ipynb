{
 "cells": [
  {
   "cell_type": "code",
   "execution_count": null,
   "metadata": {
    "vscode": {
     "languageId": "plaintext"
    }
   },
   "outputs": [],
   "source": [
    "# setup_blockchain.ipynb\n",
    "\n",
    "# Install required packages\n",
    "!pip install web3 pandas numpy python-dotenv truffle-contract\n",
    "\n",
    "# Install Node.js and npm\n",
    "!curl -sL https://deb.nodesource.com/setup_16.x | sudo -E bash -\n",
    "!sudo apt-get install -y nodejs\n",
    "\n",
    "# Install Truffle and Ganache\n",
    "!npm install -g truffle\n",
    "!npm install -g ganache-cli\n",
    "\n",
    "# Create required directories\n",
    "!mkdir -p contracts migrations test build/contracts data\n",
    "\n",
    "# Start local blockchain (for development)\n",
    "!ganache-cli --detach\n",
    "\n",
    "# Create .env file\n",
    "%%writefile .env\n",
    "INFURA_PROJECT_ID=your_infura_project_id\n",
    "PRIVATE_KEY=your_private_key\n",
    "NEXT_PUBLIC_TATUM_API_KEY=your_tatum_key\n",
    "NETWORK=development\n",
    "\n",
    "# Import and initialize workflow\n",
    "from blockchain_workflow import BlockchainWorkflow\n",
    "\n",
    "# Initialize workflow with selected network\n",
    "workflow = BlockchainWorkflow(network=\"development\")  # or \"ethereum_testnet\" or \"tatum_testnet\"\n",
    "\n",
    "# Example usage\n",
    "async def main():\n",
    "    # Prepare Melbourne data\n",
    "    data = '''city,date,sector,value\n",
    "\"Melbourne\",\"12/02/2019\",\"Aviation\",\"0.000781026\"\n",
    "\"Melbourne\",\"13/02/2019\",\"Aviation\",\"0.000763575\"\n",
    "\"Melbourne\",\"14/02/2019\",\"Aviation\",\"0.000873851\"\n",
    "\"Melbourne\",\"15/02/2019\",\"Aviation\",\"0.000854864\"\n",
    "\"Melbourne\",\"16/02/2019\",\"Aviation\",\"0.000779222\"\n",
    "\"Melbourne\",\"17/02/2019\",\"Aviation\",\"0.000819833\"\n",
    "\"Melbourne\",\"18/02/2019\",\"Aviation\",\"0.000843033\"\n",
    "\"Melbourne\",\"19/02/2019\",\"Aviation\",\"0.000803008\"'''\n",
    "\n",
    "    # Save data to CSV\n",
    "    with open('data/melbourne_aviation.csv', 'w') as f:\n",
    "        f.write(data)\n",
    "\n",
    "    # Run workflow\n",
    "    await workflow.run_complete_workflow('data/melbourne_aviation.csv')\n",
    "\n",
    "# Run the workflow\n",
    "import asyncio\n",
    "await main()"
   ]
  }
 ],
 "metadata": {
  "language_info": {
   "name": "python"
  }
 },
 "nbformat": 4,
 "nbformat_minor": 2
}
